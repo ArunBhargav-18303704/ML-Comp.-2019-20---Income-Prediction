{
 "cells": [
  {
   "cell_type": "markdown",
   "metadata": {},
   "source": [
    "# importig Training file "
   ]
  },
  {
   "cell_type": "code",
   "execution_count": 37,
   "metadata": {
    "_cell_guid": "b1076dfc-b9ad-4769-8c92-a6c4dae69d19",
    "_uuid": "8f2839f25d086af736a60e9eeb907d3b93b6e0e5"
   },
   "outputs": [
    {
     "name": "stdout",
     "output_type": "stream",
     "text": [
      "/kaggle/input/tcdml1920-income-ind/tcd ml 2019-20 income prediction submission file example (random solutions).csv\n",
      "/kaggle/input/tcdml1920-income-ind/tcd ml 2019-20 income prediction submission file.csv\n",
      "/kaggle/input/tcdml1920-income-ind/tcd ml 2019-20 income prediction test (without labels).csv\n",
      "/kaggle/input/tcdml1920-income-ind/tcd ml 2019-20 income prediction training (with labels).csv\n",
      "<class 'pandas.core.frame.DataFrame'>\n",
      "RangeIndex: 111993 entries, 0 to 111992\n",
      "Data columns (total 12 columns):\n",
      "Instance             111993 non-null int64\n",
      "Year of Record       111552 non-null float64\n",
      "Gender               104561 non-null object\n",
      "Age                  111499 non-null float64\n",
      "Country              111993 non-null object\n",
      "Size of City         111993 non-null int64\n",
      "Profession           111671 non-null object\n",
      "University Degree    104623 non-null object\n",
      "Wears Glasses        111993 non-null int64\n",
      "Hair Color           104751 non-null object\n",
      "Body Height [cm]     111993 non-null int64\n",
      "Income in EUR        111993 non-null float64\n",
      "dtypes: float64(3), int64(4), object(5)\n",
      "memory usage: 10.3+ MB\n"
     ]
    }
   ],
   "source": [
    "# This Python 3 environment comes with many helpful analytics libraries installed\n",
    "# It is defined by the kaggle/python docker image: https://github.com/kaggle/docker-python\n",
    "# For example, here's several helpful packages to load in \n",
    "\n",
    "import numpy as np # linear algebra\n",
    "import pandas as pd # data processing, CSV file I/O (e.g. pd.read_csv)\n",
    "import category_encoders as ce\n",
    "from sklearn import svm\n",
    "\n",
    "from sklearn.linear_model import LinearRegression, SGDRegressor\n",
    "from sklearn.model_selection import train_test_split, GridSearchCV\n",
    "from sklearn.decomposition import TruncatedSVD\n",
    "from sklearn.ensemble import BaggingRegressor\n",
    "from sklearn.tree import DecisionTreeRegressor\n",
    "\n",
    "# Input data files are available in the \"../input/\" directory.\n",
    "# For example, running this (by clicking run or pressing Shift+Enter) will list all files under the input directory\n",
    "\n",
    "import os\n",
    "for dirname, _, filenames in os.walk('/kaggle/input'):\n",
    "    for filename in filenames:\n",
    "        print(os.path.join(dirname, filename))\n",
    "\n",
    "# Any results you write to the current directory are saved as output.\n",
    "\n",
    "filename = \"../input/tcdml1920-income-ind/tcd ml 2019-20 income prediction training (with labels).csv\"\n",
    "dataset = pd.read_csv(filename,delimiter = ',')\n",
    "#checking what data is present\n",
    "dataset.info()\n"
   ]
  },
  {
   "cell_type": "markdown",
   "metadata": {},
   "source": [
    "# checking what data is present in 'wear glasses column' from given dataset"
   ]
  },
  {
   "cell_type": "code",
   "execution_count": 38,
   "metadata": {},
   "outputs": [
    {
     "data": {
      "text/plain": [
       "Instance                0\n",
       "Year of Record        441\n",
       "Gender               7432\n",
       "Age                   494\n",
       "Country                 0\n",
       "Size of City            0\n",
       "Profession            322\n",
       "University Degree    7370\n",
       "Wears Glasses           0\n",
       "Hair Color           7242\n",
       "Body Height [cm]        0\n",
       "Income in EUR           0\n",
       "dtype: int64"
      ]
     },
     "execution_count": 38,
     "metadata": {},
     "output_type": "execute_result"
    }
   ],
   "source": [
    "\n",
    "dataset['Wears Glasses']\n",
    "dataset['Wears Glasses'].unique()\n",
    "#checking how many null values are there in given dataset\n",
    "dataset.isnull().sum()"
   ]
  },
  {
   "cell_type": "markdown",
   "metadata": {},
   "source": [
    "# Applying preprocessing "
   ]
  },
  {
   "cell_type": "code",
   "execution_count": 39,
   "metadata": {},
   "outputs": [],
   "source": [
    "\n",
    "#Replacing 'NA' values in 'Hair Color' column with previous value\n",
    "dataset[\"Hair Color\"].fillna( method ='ffill', inplace = True)\n",
    "dataset['Hair Color']=dataset['Hair Color'].replace('0', 'Unknown')\n",
    "#dataset['Hair Color'] = dataset['Hair Color'].apply({'Blond':4, 'Black':1, 'Brown':2, 'Red':3, 'Unknown':0}.get)\n",
    "\n",
    "#Replacing 'NA' values in 'Age' column with mean value\n",
    "dataset['Age'] = dataset['Age'].fillna((dataset['Age'].mean()))\n",
    "\n",
    "#Replacing 'NA' values in 'Year of Record' column with mean value\n",
    "dataset['Year of Record']=dataset[\"Year of Record\"].fillna(dataset['Year of Record'].mean())\n",
    "#dataset['Year of Record'].fillna( method ='ffill', inplace = True)\n",
    "\n",
    "#Replacing '0' values in 'University Degree' column with 'No'\n",
    "dataset[\"University Degree\"] = dataset[\"University Degree\"].replace(\"0\", \"No\")\n",
    "\n",
    "#Replacing '0' values in 'University Degree' column with 'unknown'\n",
    "dataset[\"Gender\"] = dataset[\"Gender\"].replace(\"0\", \"unknown\")"
   ]
  },
  {
   "cell_type": "markdown",
   "metadata": {},
   "source": [
    "# checking null values in dataset after replacing "
   ]
  },
  {
   "cell_type": "code",
   "execution_count": 40,
   "metadata": {},
   "outputs": [
    {
     "data": {
      "text/plain": [
       "Instance                0\n",
       "Year of Record          0\n",
       "Gender               7432\n",
       "Age                     0\n",
       "Country                 0\n",
       "Size of City            0\n",
       "Profession            322\n",
       "University Degree    7370\n",
       "Wears Glasses           0\n",
       "Hair Color              0\n",
       "Body Height [cm]        0\n",
       "Income in EUR           0\n",
       "dtype: int64"
      ]
     },
     "execution_count": 40,
     "metadata": {},
     "output_type": "execute_result"
    }
   ],
   "source": [
    "\n",
    "dataset.isnull().sum()"
   ]
  },
  {
   "cell_type": "markdown",
   "metadata": {},
   "source": [
    "# importing sklearn preprocessing and pipeline"
   ]
  },
  {
   "cell_type": "code",
   "execution_count": 41,
   "metadata": {},
   "outputs": [],
   "source": [
    "\n",
    "from sklearn.preprocessing import StandardScaler, MinMaxScaler\n",
    "from sklearn.pipeline import Pipeline\n",
    "from sklearn.impute import SimpleImputer\n",
    "from sklearn.preprocessing import StandardScaler, OneHotEncoder\n",
    "from sklearn.preprocessing import MinMaxScaler\n",
    "\n",
    "#taking numeric value columns to apply normalisiation\n",
    "num_colums = ['Age', 'Year of Record', 'Size of City', 'Body Height [cm]']\n",
    "num_transformer = Pipeline(steps=[('imputer', SimpleImputer(strategy='median')),\n",
    "    ('scaler', MinMaxScaler())])\n",
    "#taking catogerical columns and converting them to numerical using sklearn onehot encoding\n",
    "catego_columns = ['Gender', 'University Degree', 'Country', 'Profession', 'Hair Color']\n",
    "catego_transformer = Pipeline(steps=[('imputer', SimpleImputer(strategy='constant', fill_value='missing')),\n",
    "    ('onehot', OneHotEncoder(handle_unknown='ignore'))])\n"
   ]
  },
  {
   "cell_type": "markdown",
   "metadata": {},
   "source": [
    "# Applying the transformation using sklearn columnTransformer"
   ]
  },
  {
   "cell_type": "code",
   "execution_count": 42,
   "metadata": {},
   "outputs": [],
   "source": [
    "from sklearn.compose import ColumnTransformer\n",
    "\n",
    "preprocessor = ColumnTransformer(\n",
    "    transformers=[\n",
    "        ('num', num_transformer, num_colums),\n",
    "        ('cat', catego_transformer, catego_columns)])"
   ]
  },
  {
   "cell_type": "markdown",
   "metadata": {},
   "source": [
    "# applying linear Regression in pipeline"
   ]
  },
  {
   "cell_type": "code",
   "execution_count": 43,
   "metadata": {},
   "outputs": [
    {
     "data": {
      "text/plain": [
       "Instance                0\n",
       "Year of Record          0\n",
       "Gender               7432\n",
       "Age                     0\n",
       "Country                 0\n",
       "Size of City            0\n",
       "Profession            322\n",
       "University Degree    7370\n",
       "Wears Glasses           0\n",
       "Hair Color              0\n",
       "Body Height [cm]        0\n",
       "Income in EUR           0\n",
       "dtype: int64"
      ]
     },
     "execution_count": 43,
     "metadata": {},
     "output_type": "execute_result"
    }
   ],
   "source": [
    "from sklearn.ensemble import RandomForestClassifier\n",
    "#copied given data into another variable\n",
    "q = dataset\n",
    "\n",
    "clf = Pipeline(steps=[('preprocessor', preprocessor),\n",
    "                      ('classifier', LinearRegression())])\n",
    "#taking the columns for testing and training\n",
    "X = q[q.columns.difference(['Income in EUR'])]\n",
    "y = q[\"Income in EUR\"]\n",
    "#checking null values in given data\n",
    "q.isnull().sum()"
   ]
  },
  {
   "cell_type": "code",
   "execution_count": 44,
   "metadata": {},
   "outputs": [
    {
     "data": {
      "text/html": [
       "<div>\n",
       "<style scoped>\n",
       "    .dataframe tbody tr th:only-of-type {\n",
       "        vertical-align: middle;\n",
       "    }\n",
       "\n",
       "    .dataframe tbody tr th {\n",
       "        vertical-align: top;\n",
       "    }\n",
       "\n",
       "    .dataframe thead th {\n",
       "        text-align: right;\n",
       "    }\n",
       "</style>\n",
       "<table border=\"1\" class=\"dataframe\">\n",
       "  <thead>\n",
       "    <tr style=\"text-align: right;\">\n",
       "      <th></th>\n",
       "      <th>Instance</th>\n",
       "      <th>Year of Record</th>\n",
       "      <th>Gender</th>\n",
       "      <th>Age</th>\n",
       "      <th>Country</th>\n",
       "      <th>Size of City</th>\n",
       "      <th>Profession</th>\n",
       "      <th>University Degree</th>\n",
       "      <th>Wears Glasses</th>\n",
       "      <th>Hair Color</th>\n",
       "      <th>Body Height [cm]</th>\n",
       "      <th>Income in EUR</th>\n",
       "    </tr>\n",
       "  </thead>\n",
       "  <tbody>\n",
       "    <tr>\n",
       "      <td>0</td>\n",
       "      <td>1</td>\n",
       "      <td>1997.0</td>\n",
       "      <td>unknown</td>\n",
       "      <td>41.0</td>\n",
       "      <td>Belarus</td>\n",
       "      <td>1239930</td>\n",
       "      <td>steel workers</td>\n",
       "      <td>Bachelor</td>\n",
       "      <td>0</td>\n",
       "      <td>Blond</td>\n",
       "      <td>193</td>\n",
       "      <td>61031.94416</td>\n",
       "    </tr>\n",
       "    <tr>\n",
       "      <td>1</td>\n",
       "      <td>2</td>\n",
       "      <td>1996.0</td>\n",
       "      <td>other</td>\n",
       "      <td>41.0</td>\n",
       "      <td>Singapore</td>\n",
       "      <td>1603504</td>\n",
       "      <td>safe event coordinator</td>\n",
       "      <td>Master</td>\n",
       "      <td>0</td>\n",
       "      <td>Black</td>\n",
       "      <td>186</td>\n",
       "      <td>91001.32764</td>\n",
       "    </tr>\n",
       "    <tr>\n",
       "      <td>2</td>\n",
       "      <td>3</td>\n",
       "      <td>2018.0</td>\n",
       "      <td>other</td>\n",
       "      <td>28.0</td>\n",
       "      <td>Norway</td>\n",
       "      <td>1298017</td>\n",
       "      <td>receivables/payables analyst</td>\n",
       "      <td>PhD</td>\n",
       "      <td>1</td>\n",
       "      <td>Brown</td>\n",
       "      <td>170</td>\n",
       "      <td>157982.17670</td>\n",
       "    </tr>\n",
       "    <tr>\n",
       "      <td>3</td>\n",
       "      <td>4</td>\n",
       "      <td>2006.0</td>\n",
       "      <td>other</td>\n",
       "      <td>33.0</td>\n",
       "      <td>Cuba</td>\n",
       "      <td>751903</td>\n",
       "      <td>fleet assistant</td>\n",
       "      <td>No</td>\n",
       "      <td>1</td>\n",
       "      <td>Black</td>\n",
       "      <td>171</td>\n",
       "      <td>45993.75793</td>\n",
       "    </tr>\n",
       "    <tr>\n",
       "      <td>4</td>\n",
       "      <td>5</td>\n",
       "      <td>2010.0</td>\n",
       "      <td>female</td>\n",
       "      <td>46.0</td>\n",
       "      <td>United Arab Emirates</td>\n",
       "      <td>95389</td>\n",
       "      <td>lead trainer</td>\n",
       "      <td>No</td>\n",
       "      <td>0</td>\n",
       "      <td>Blond</td>\n",
       "      <td>188</td>\n",
       "      <td>38022.16217</td>\n",
       "    </tr>\n",
       "    <tr>\n",
       "      <td>...</td>\n",
       "      <td>...</td>\n",
       "      <td>...</td>\n",
       "      <td>...</td>\n",
       "      <td>...</td>\n",
       "      <td>...</td>\n",
       "      <td>...</td>\n",
       "      <td>...</td>\n",
       "      <td>...</td>\n",
       "      <td>...</td>\n",
       "      <td>...</td>\n",
       "      <td>...</td>\n",
       "      <td>...</td>\n",
       "    </tr>\n",
       "    <tr>\n",
       "      <td>111988</td>\n",
       "      <td>111989</td>\n",
       "      <td>1980.0</td>\n",
       "      <td>female</td>\n",
       "      <td>29.0</td>\n",
       "      <td>Honduras</td>\n",
       "      <td>205274</td>\n",
       "      <td>industrial program compliance analyst</td>\n",
       "      <td>No</td>\n",
       "      <td>0</td>\n",
       "      <td>Brown</td>\n",
       "      <td>135</td>\n",
       "      <td>17185.12970</td>\n",
       "    </tr>\n",
       "    <tr>\n",
       "      <td>111989</td>\n",
       "      <td>111990</td>\n",
       "      <td>2006.0</td>\n",
       "      <td>female</td>\n",
       "      <td>36.0</td>\n",
       "      <td>Tunisia</td>\n",
       "      <td>1012826</td>\n",
       "      <td>senior policy advisor</td>\n",
       "      <td>Master</td>\n",
       "      <td>1</td>\n",
       "      <td>Brown</td>\n",
       "      <td>147</td>\n",
       "      <td>118806.53920</td>\n",
       "    </tr>\n",
       "    <tr>\n",
       "      <td>111990</td>\n",
       "      <td>111991</td>\n",
       "      <td>1993.0</td>\n",
       "      <td>female</td>\n",
       "      <td>36.0</td>\n",
       "      <td>Sri Lanka</td>\n",
       "      <td>60848</td>\n",
       "      <td>messenger</td>\n",
       "      <td>Master</td>\n",
       "      <td>1</td>\n",
       "      <td>Brown</td>\n",
       "      <td>153</td>\n",
       "      <td>289951.32940</td>\n",
       "    </tr>\n",
       "    <tr>\n",
       "      <td>111991</td>\n",
       "      <td>111992</td>\n",
       "      <td>2019.0</td>\n",
       "      <td>other</td>\n",
       "      <td>54.0</td>\n",
       "      <td>Denmark</td>\n",
       "      <td>848640</td>\n",
       "      <td>senior case support associate</td>\n",
       "      <td>No</td>\n",
       "      <td>0</td>\n",
       "      <td>Black</td>\n",
       "      <td>190</td>\n",
       "      <td>100046.52780</td>\n",
       "    </tr>\n",
       "    <tr>\n",
       "      <td>111992</td>\n",
       "      <td>111993</td>\n",
       "      <td>2017.0</td>\n",
       "      <td>female</td>\n",
       "      <td>27.0</td>\n",
       "      <td>State of Palestine</td>\n",
       "      <td>325590</td>\n",
       "      <td>project manager</td>\n",
       "      <td>No</td>\n",
       "      <td>0</td>\n",
       "      <td>Blond</td>\n",
       "      <td>174</td>\n",
       "      <td>145886.28850</td>\n",
       "    </tr>\n",
       "  </tbody>\n",
       "</table>\n",
       "<p>111993 rows × 12 columns</p>\n",
       "</div>"
      ],
      "text/plain": [
       "        Instance  Year of Record   Gender   Age               Country  \\\n",
       "0              1          1997.0  unknown  41.0               Belarus   \n",
       "1              2          1996.0    other  41.0             Singapore   \n",
       "2              3          2018.0    other  28.0                Norway   \n",
       "3              4          2006.0    other  33.0                  Cuba   \n",
       "4              5          2010.0   female  46.0  United Arab Emirates   \n",
       "...          ...             ...      ...   ...                   ...   \n",
       "111988    111989          1980.0   female  29.0              Honduras   \n",
       "111989    111990          2006.0   female  36.0               Tunisia   \n",
       "111990    111991          1993.0   female  36.0             Sri Lanka   \n",
       "111991    111992          2019.0    other  54.0               Denmark   \n",
       "111992    111993          2017.0   female  27.0    State of Palestine   \n",
       "\n",
       "        Size of City                             Profession University Degree  \\\n",
       "0            1239930                          steel workers          Bachelor   \n",
       "1            1603504                 safe event coordinator            Master   \n",
       "2            1298017           receivables/payables analyst               PhD   \n",
       "3             751903                        fleet assistant                No   \n",
       "4              95389                           lead trainer                No   \n",
       "...              ...                                    ...               ...   \n",
       "111988        205274  industrial program compliance analyst                No   \n",
       "111989       1012826                  senior policy advisor            Master   \n",
       "111990         60848                              messenger            Master   \n",
       "111991        848640          senior case support associate                No   \n",
       "111992        325590                       project manager                 No   \n",
       "\n",
       "        Wears Glasses Hair Color  Body Height [cm]  Income in EUR  \n",
       "0                   0      Blond               193    61031.94416  \n",
       "1                   0      Black               186    91001.32764  \n",
       "2                   1      Brown               170   157982.17670  \n",
       "3                   1      Black               171    45993.75793  \n",
       "4                   0      Blond               188    38022.16217  \n",
       "...               ...        ...               ...            ...  \n",
       "111988              0      Brown               135    17185.12970  \n",
       "111989              1      Brown               147   118806.53920  \n",
       "111990              1      Brown               153   289951.32940  \n",
       "111991              0      Black               190   100046.52780  \n",
       "111992              0      Blond               174   145886.28850  \n",
       "\n",
       "[111993 rows x 12 columns]"
      ]
     },
     "execution_count": 44,
     "metadata": {},
     "output_type": "execute_result"
    }
   ],
   "source": [
    "q"
   ]
  },
  {
   "cell_type": "markdown",
   "metadata": {},
   "source": [
    "# splitiing the training data in 70/30% for training and testing"
   ]
  },
  {
   "cell_type": "code",
   "execution_count": 45,
   "metadata": {},
   "outputs": [],
   "source": [
    "\n",
    "\n",
    "X_train, X_test, y_train, y_test = train_test_split(X, y, test_size=0.3)\n",
    "#testsize=500\n",
    "#X_train =X[:-testsize]\n",
    "#y_train =y[:-testsize]\n",
    "\n",
    "#X_test=X[-testsize:]\n",
    "#y_test=y[-testsize:]"
   ]
  },
  {
   "cell_type": "markdown",
   "metadata": {},
   "source": [
    "# Applying the model to the training dataset"
   ]
  },
  {
   "cell_type": "code",
   "execution_count": 46,
   "metadata": {
    "_cell_guid": "79c7e3d0-c299-4dcb-8224-4455121ee9b0",
    "_uuid": "d629ff2d2480ee46fbb7e2d37f6b5fab8052498a",
    "scrolled": true
   },
   "outputs": [
    {
     "name": "stdout",
     "output_type": "stream",
     "text": [
      "0.7025133600543454\n"
     ]
    }
   ],
   "source": [
    "\n",
    "clf.fit(X_train,y_train)\n",
    "#applying the model to test data and checking the score\n",
    "print(clf.score(X_test,y_test))"
   ]
  },
  {
   "cell_type": "markdown",
   "metadata": {},
   "source": [
    "# Importing the test data file"
   ]
  },
  {
   "cell_type": "code",
   "execution_count": 47,
   "metadata": {},
   "outputs": [
    {
     "data": {
      "text/plain": [
       "array(['Master', 'Bachelor', 'No', nan, 'PhD', '0'], dtype=object)"
      ]
     },
     "execution_count": 47,
     "metadata": {},
     "output_type": "execute_result"
    }
   ],
   "source": [
    "\n",
    "testfilename = \"../input/tcdml1920-income-ind/tcd ml 2019-20 income prediction test (without labels).csv\"\n",
    "testdata = pd.read_csv(testfilename,delimiter = ',')\n",
    "testdata.isnull().sum()\n",
    "testdata['University Degree'].unique()"
   ]
  },
  {
   "cell_type": "markdown",
   "metadata": {},
   "source": [
    "# Applying the preprocessing to remove the null values in test data"
   ]
  },
  {
   "cell_type": "code",
   "execution_count": 48,
   "metadata": {},
   "outputs": [],
   "source": [
    "\n",
    "#Replacing 'NA' values in 'Hair Color' column with previous value\n",
    "testdata[\"Hair Color\"].fillna( method ='ffill', inplace = True)\n",
    "testdata['Hair Color']=testdata['Hair Color'].replace('0', 'Unknown')\n",
    "\n",
    "#Replacing 'NA' values in 'Age' column with mean value\n",
    "testdata['Age'] = testdata['Age'].fillna((testdata['Age'].mean()))\n",
    "\n",
    "#Replacing 'NA' values in 'Year of Record' column with mean value\n",
    "testdata['Year of Record']=testdata[\"Year of Record\"].fillna(testdata['Year of Record'].mean())\n",
    "\n",
    "#Replacing '0' values in 'University Degree' column with 'No'\n",
    "testdata[\"University Degree\"] = testdata[\"University Degree\"].replace(\"0\", \"No\")\n",
    "\n",
    "#Replacing '0' values in 'Gender' column with 'unknown'\n",
    "testdata[\"Gender\"] = testdata[\"Gender\"].replace(\"0\", \"unknown\")\n"
   ]
  },
  {
   "cell_type": "code",
   "execution_count": 49,
   "metadata": {},
   "outputs": [],
   "source": [
    "#taking feature columns from testdata\n",
    "test_X = testdata[testdata.columns.difference(['Income'])]\n",
    "test_y = testdata[\"Income\"]"
   ]
  },
  {
   "cell_type": "markdown",
   "metadata": {},
   "source": [
    "# Applying the model to the test data for prediction"
   ]
  },
  {
   "cell_type": "code",
   "execution_count": 50,
   "metadata": {},
   "outputs": [],
   "source": [
    "\n",
    "incomePredicted=clf.predict(test_X)"
   ]
  },
  {
   "cell_type": "code",
   "execution_count": 51,
   "metadata": {},
   "outputs": [
    {
     "data": {
      "text/plain": [
       "array([ 24870.52373185, -33720.92533708,  44416.38106865, ...,\n",
       "        93143.37145569, 214444.03259029, 178854.61183767])"
      ]
     },
     "execution_count": 51,
     "metadata": {},
     "output_type": "execute_result"
    }
   ],
   "source": [
    "#values predicted\n",
    "incomePredicted"
   ]
  },
  {
   "cell_type": "code",
   "execution_count": 52,
   "metadata": {},
   "outputs": [],
   "source": [
    "#replacing the values in testdata file with predicted values\n",
    "testdata['Income']=incomePredicted\n"
   ]
  },
  {
   "cell_type": "markdown",
   "metadata": {},
   "source": [
    "# Taking only instance and income column from the testdata file"
   ]
  },
  {
   "cell_type": "code",
   "execution_count": 53,
   "metadata": {},
   "outputs": [
    {
     "data": {
      "text/html": [
       "<div>\n",
       "<style scoped>\n",
       "    .dataframe tbody tr th:only-of-type {\n",
       "        vertical-align: middle;\n",
       "    }\n",
       "\n",
       "    .dataframe tbody tr th {\n",
       "        vertical-align: top;\n",
       "    }\n",
       "\n",
       "    .dataframe thead th {\n",
       "        text-align: right;\n",
       "    }\n",
       "</style>\n",
       "<table border=\"1\" class=\"dataframe\">\n",
       "  <thead>\n",
       "    <tr style=\"text-align: right;\">\n",
       "      <th></th>\n",
       "      <th>Instance</th>\n",
       "      <th>Income</th>\n",
       "    </tr>\n",
       "  </thead>\n",
       "  <tbody>\n",
       "    <tr>\n",
       "      <td>0</td>\n",
       "      <td>111994</td>\n",
       "      <td>24870.523732</td>\n",
       "    </tr>\n",
       "    <tr>\n",
       "      <td>1</td>\n",
       "      <td>111995</td>\n",
       "      <td>-33720.925337</td>\n",
       "    </tr>\n",
       "    <tr>\n",
       "      <td>2</td>\n",
       "      <td>111996</td>\n",
       "      <td>44416.381069</td>\n",
       "    </tr>\n",
       "    <tr>\n",
       "      <td>3</td>\n",
       "      <td>111997</td>\n",
       "      <td>170909.974895</td>\n",
       "    </tr>\n",
       "    <tr>\n",
       "      <td>4</td>\n",
       "      <td>111998</td>\n",
       "      <td>12327.175693</td>\n",
       "    </tr>\n",
       "    <tr>\n",
       "      <td>...</td>\n",
       "      <td>...</td>\n",
       "      <td>...</td>\n",
       "    </tr>\n",
       "    <tr>\n",
       "      <td>73225</td>\n",
       "      <td>185219</td>\n",
       "      <td>115524.822661</td>\n",
       "    </tr>\n",
       "    <tr>\n",
       "      <td>73226</td>\n",
       "      <td>185220</td>\n",
       "      <td>110808.653727</td>\n",
       "    </tr>\n",
       "    <tr>\n",
       "      <td>73227</td>\n",
       "      <td>185221</td>\n",
       "      <td>93143.371456</td>\n",
       "    </tr>\n",
       "    <tr>\n",
       "      <td>73228</td>\n",
       "      <td>185222</td>\n",
       "      <td>214444.032590</td>\n",
       "    </tr>\n",
       "    <tr>\n",
       "      <td>73229</td>\n",
       "      <td>185223</td>\n",
       "      <td>178854.611838</td>\n",
       "    </tr>\n",
       "  </tbody>\n",
       "</table>\n",
       "<p>73230 rows × 2 columns</p>\n",
       "</div>"
      ],
      "text/plain": [
       "       Instance         Income\n",
       "0        111994   24870.523732\n",
       "1        111995  -33720.925337\n",
       "2        111996   44416.381069\n",
       "3        111997  170909.974895\n",
       "4        111998   12327.175693\n",
       "...         ...            ...\n",
       "73225    185219  115524.822661\n",
       "73226    185220  110808.653727\n",
       "73227    185221   93143.371456\n",
       "73228    185222  214444.032590\n",
       "73229    185223  178854.611838\n",
       "\n",
       "[73230 rows x 2 columns]"
      ]
     },
     "execution_count": 53,
     "metadata": {},
     "output_type": "execute_result"
    }
   ],
   "source": [
    "\n",
    "finalfile=testdata[['Instance','Income']]\n",
    "\n",
    "#Don't forget to add '.csv' at the end of the path\n",
    "finalfile"
   ]
  },
  {
   "cell_type": "markdown",
   "metadata": {},
   "source": [
    "# Exporting the final file"
   ]
  },
  {
   "cell_type": "code",
   "execution_count": 54,
   "metadata": {},
   "outputs": [],
   "source": [
    "\n",
    "export_csv = finalfile.to_csv (r'tcd ml 2019-20 income prediction submission file1.csv', index = None, header=True)\n"
   ]
  },
  {
   "cell_type": "code",
   "execution_count": null,
   "metadata": {},
   "outputs": [],
   "source": []
  }
 ],
 "metadata": {
  "kernelspec": {
   "display_name": "Python 3",
   "language": "python",
   "name": "python3"
  },
  "language_info": {
   "codemirror_mode": {
    "name": "ipython",
    "version": 3
   },
   "file_extension": ".py",
   "mimetype": "text/x-python",
   "name": "python",
   "nbconvert_exporter": "python",
   "pygments_lexer": "ipython3",
   "version": "3.7.3"
  }
 },
 "nbformat": 4,
 "nbformat_minor": 1
}
